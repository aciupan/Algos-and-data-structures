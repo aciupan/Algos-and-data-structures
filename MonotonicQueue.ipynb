{
 "cells": [
  {
   "cell_type": "code",
   "execution_count": 13,
   "metadata": {
    "ExecuteTime": {
     "end_time": "2019-09-27T19:22:13.852958Z",
     "start_time": "2019-09-27T19:22:13.831540Z"
    },
    "collapsed": true
   },
   "outputs": [],
   "source": [
    "import collections\n",
    "class MonotonicQ():\n",
    "    __slots__ = [\"H\", \"func\"]\n",
    "    def __init__(self, comparison_fn):\n",
    "        self.H = collections.deque()\n",
    "        self.func = comparison_fn\n",
    "    def satisfies_order(self, a, b):\n",
    "        return self.func(a, b)\n",
    "    def add(self, item):\n",
    "        while self.H:\n",
    "            if self.satisfies_order(item, self.H[-1]):\n",
    "                self.H.pop()\n",
    "            else:\n",
    "                break\n",
    "        self.H.append(item)\n",
    "    def remove_max(self):\n",
    "        return self.H.popleft()\n",
    "    def get_max(self):\n",
    "        return self.H[0]\n",
    "            \n",
    "            \n",
    "            \n",
    "            \n",
    "            \n",
    "            \n",
    "            \n",
    "            \n",
    "            \n",
    "            \n",
    "            \n",
    "            \n",
    "            \n",
    "            \n",
    "            \n",
    "            "
   ]
  },
  {
   "cell_type": "code",
   "execution_count": 16,
   "metadata": {
    "ExecuteTime": {
     "end_time": "2019-09-27T19:22:42.690275Z",
     "start_time": "2019-09-27T19:22:42.676488Z"
    }
   },
   "outputs": [
    {
     "name": "stdout",
     "output_type": "stream",
     "text": [
      "deque([1, 2])\n"
     ]
    }
   ],
   "source": [
    "def smallerthan(a, b):\n",
    "    return a<=b\n",
    "x = MonotonicQ(lambda x, y: x<=y)\n",
    "x.add(2)\n",
    "x.add(3)\n",
    "x.add(1)\n",
    "x.add(2)\n",
    "print(x.H)"
   ]
  },
  {
   "cell_type": "code",
   "execution_count": 17,
   "metadata": {
    "ExecuteTime": {
     "end_time": "2019-09-27T21:35:41.371925Z",
     "start_time": "2019-09-27T21:35:41.366422Z"
    }
   },
   "outputs": [
    {
     "name": "stdout",
     "output_type": "stream",
     "text": [
      "[]\n"
     ]
    }
   ],
   "source": [
    "x = [0]\n",
    "print(x[1:])"
   ]
  },
  {
   "cell_type": "code",
   "execution_count": null,
   "metadata": {
    "collapsed": true
   },
   "outputs": [],
   "source": []
  }
 ],
 "metadata": {
  "kernelspec": {
   "display_name": "Python [default]",
   "language": "python",
   "name": "python3"
  },
  "language_info": {
   "codemirror_mode": {
    "name": "ipython",
    "version": 3
   },
   "file_extension": ".py",
   "mimetype": "text/x-python",
   "name": "python",
   "nbconvert_exporter": "python",
   "pygments_lexer": "ipython3",
   "version": "3.5.4"
  }
 },
 "nbformat": 4,
 "nbformat_minor": 2
}
