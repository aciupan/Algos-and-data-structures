{
 "cells": [
  {
   "cell_type": "code",
   "execution_count": 4,
   "metadata": {
    "ExecuteTime": {
     "end_time": "2019-09-30T04:29:52.577813Z",
     "start_time": "2019-09-30T04:29:52.565242Z"
    },
    "collapsed": true
   },
   "outputs": [],
   "source": [
    "import collections\n",
    "class MonotonicQ():\n",
    "    __slots__ = [\"H\", \"func\"]\n",
    "    def __init__(self, comparison_fn):\n",
    "        self.H = collections.deque()\n",
    "        self.func = comparison_fn\n",
    "    def satisfies_order(self, a, b):\n",
    "        return self.func(a, b)\n",
    "    def add(self, item):\n",
    "        while self.H:\n",
    "            if self.satisfies_order(item, self.H[-1]):\n",
    "                self.H.pop()\n",
    "            else:\n",
    "                break\n",
    "        self.H.append(item)\n",
    "    def remove_max(self):\n",
    "        return self.H.popleft()\n",
    "    def get_max(self):\n",
    "        return self.H[0]"
   ]
  },
  {
   "cell_type": "code",
   "execution_count": 5,
   "metadata": {
    "ExecuteTime": {
     "end_time": "2019-09-30T04:29:53.006720Z",
     "start_time": "2019-09-30T04:29:52.998916Z"
    }
   },
   "outputs": [
    {
     "name": "stdout",
     "output_type": "stream",
     "text": [
      "deque([1, 2])\n"
     ]
    }
   ],
   "source": [
    "#debugging\n",
    "x = MonotonicQ(lambda x, y: x<=y)\n",
    "x.add(2)\n",
    "x.add(3)\n",
    "x.add(1)\n",
    "x.add(2)\n",
    "print(x.H)"
   ]
  },
  {
   "cell_type": "code",
   "execution_count": null,
   "metadata": {
    "collapsed": true
   },
   "outputs": [],
   "source": []
  }
 ],
 "metadata": {
  "kernelspec": {
   "display_name": "Python [default]",
   "language": "python",
   "name": "python3"
  },
  "language_info": {
   "codemirror_mode": {
    "name": "ipython",
    "version": 3
   },
   "file_extension": ".py",
   "mimetype": "text/x-python",
   "name": "python",
   "nbconvert_exporter": "python",
   "pygments_lexer": "ipython3",
   "version": "3.5.4"
  }
 },
 "nbformat": 4,
 "nbformat_minor": 2
}
